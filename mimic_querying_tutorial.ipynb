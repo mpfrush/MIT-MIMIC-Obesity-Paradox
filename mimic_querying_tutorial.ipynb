{
 "cells": [
  {
   "cell_type": "markdown",
   "metadata": {},
   "source": [
    "## MIMIC-III Querying Tutorial\n",
    "\n",
    "[Tutorial is available online](https://mimic.physionet.org/tutorials/intro-to-mimic-iii/)\n",
    "\n",
    "Dr. Maria P. Frushicheva @ MIT"
   ]
  },
  {
   "cell_type": "code",
   "execution_count": 13,
   "metadata": {
    "collapsed": false
   },
   "outputs": [],
   "source": [
    "# Import libraries\n",
    "import numpy as np\n",
    "import pandas as pd\n",
    "import matplotlib.pyplot as plt\n",
    "import psycopg2\n",
    "\n",
    "# used to calculate AUROC/accuracy\n",
    "from sklearn import metrics\n",
    "\n",
    "%matplotlib inline"
   ]
  },
  {
   "cell_type": "code",
   "execution_count": 14,
   "metadata": {
    "collapsed": false
   },
   "outputs": [],
   "source": [
    "# create a database connection\n",
    "sqluser = 'mimic' \n",
    "dbname = 'mimic'\n",
    "schema_name = 'mimiciii'\n",
    "\n",
    "# Connect to local postgres version of mimic\n",
    "con = psycopg2.connect(dbname=dbname, user=sqluser)\n",
    "cur = con.cursor()"
   ]
  },
  {
   "cell_type": "markdown",
   "metadata": {},
   "source": [
    " ### Counting the Number of Patients in the Database"
   ]
  },
  {
   "cell_type": "code",
   "execution_count": 15,
   "metadata": {
    "collapsed": false
   },
   "outputs": [
    {
     "data": {
      "text/html": [
       "<div>\n",
       "<table border=\"1\" class=\"dataframe\">\n",
       "  <thead>\n",
       "    <tr style=\"text-align: right;\">\n",
       "      <th></th>\n",
       "      <th>count</th>\n",
       "    </tr>\n",
       "  </thead>\n",
       "  <tbody>\n",
       "    <tr>\n",
       "      <th>0</th>\n",
       "      <td>46520</td>\n",
       "    </tr>\n",
       "  </tbody>\n",
       "</table>\n",
       "</div>"
      ],
      "text/plain": [
       "   count\n",
       "0  46520"
      ]
     },
     "execution_count": 15,
     "metadata": {},
     "output_type": "execute_result"
    }
   ],
   "source": [
    "cur.execute('SET search_path to ' + schema_name)\n",
    "query = \\\n",
    "\"\"\"\n",
    "select count(subject_id)\n",
    "from mimiciii.patients;\n",
    "\"\"\"\n",
    "data = pd.read_sql_query(query,con)\n",
    "data"
   ]
  },
  {
   "cell_type": "markdown",
   "metadata": {},
   "source": [
    "### Database Metadata for the Admissions Table"
   ]
  },
  {
   "cell_type": "code",
   "execution_count": 16,
   "metadata": {
    "collapsed": false
   },
   "outputs": [
    {
     "data": {
      "text/html": [
       "<div>\n",
       "<table border=\"1\" class=\"dataframe\">\n",
       "  <thead>\n",
       "    <tr style=\"text-align: right;\">\n",
       "      <th></th>\n",
       "      <th>row_id</th>\n",
       "      <th>subject_id</th>\n",
       "      <th>hadm_id</th>\n",
       "      <th>admittime</th>\n",
       "      <th>dischtime</th>\n",
       "      <th>deathtime</th>\n",
       "      <th>admission_type</th>\n",
       "      <th>admission_location</th>\n",
       "      <th>discharge_location</th>\n",
       "      <th>insurance</th>\n",
       "      <th>language</th>\n",
       "      <th>religion</th>\n",
       "      <th>marital_status</th>\n",
       "      <th>ethnicity</th>\n",
       "      <th>edregtime</th>\n",
       "      <th>edouttime</th>\n",
       "      <th>diagnosis</th>\n",
       "      <th>hospital_expire_flag</th>\n",
       "      <th>has_ioevents_data</th>\n",
       "      <th>has_chartevents_data</th>\n",
       "    </tr>\n",
       "  </thead>\n",
       "  <tbody>\n",
       "    <tr>\n",
       "      <th>0</th>\n",
       "      <td>90</td>\n",
       "      <td>87</td>\n",
       "      <td>190659</td>\n",
       "      <td>2191-02-25 20:30:00</td>\n",
       "      <td>2191-04-25 15:18:00</td>\n",
       "      <td>None</td>\n",
       "      <td>NEWBORN</td>\n",
       "      <td>PHYS REFERRAL/NORMAL DELI</td>\n",
       "      <td>SHORT TERM HOSPITAL</td>\n",
       "      <td>Private</td>\n",
       "      <td></td>\n",
       "      <td>UNOBTAINABLE</td>\n",
       "      <td></td>\n",
       "      <td>UNKNOWN/NOT SPECIFIED</td>\n",
       "      <td>NaT</td>\n",
       "      <td>NaT</td>\n",
       "      <td>NEWBORN</td>\n",
       "      <td>0</td>\n",
       "      <td>1</td>\n",
       "      <td>1</td>\n",
       "    </tr>\n",
       "    <tr>\n",
       "      <th>1</th>\n",
       "      <td>91</td>\n",
       "      <td>88</td>\n",
       "      <td>123010</td>\n",
       "      <td>2111-08-29 03:03:00</td>\n",
       "      <td>2111-09-03 14:24:00</td>\n",
       "      <td>None</td>\n",
       "      <td>EMERGENCY</td>\n",
       "      <td>EMERGENCY ROOM ADMIT</td>\n",
       "      <td>HOME</td>\n",
       "      <td>Private</td>\n",
       "      <td></td>\n",
       "      <td></td>\n",
       "      <td></td>\n",
       "      <td>BLACK/AFRICAN AMERICAN</td>\n",
       "      <td>2111-08-29 01:44:00</td>\n",
       "      <td>2111-08-29 02:28:00</td>\n",
       "      <td>S/P MOTOR VEHICLE ACCIDENT-STABBING</td>\n",
       "      <td>0</td>\n",
       "      <td>1</td>\n",
       "      <td>1</td>\n",
       "    </tr>\n",
       "    <tr>\n",
       "      <th>2</th>\n",
       "      <td>92</td>\n",
       "      <td>89</td>\n",
       "      <td>188646</td>\n",
       "      <td>2185-06-17 05:22:00</td>\n",
       "      <td>2185-06-21 11:15:00</td>\n",
       "      <td>None</td>\n",
       "      <td>NEWBORN</td>\n",
       "      <td>PHYS REFERRAL/NORMAL DELI</td>\n",
       "      <td>SHORT TERM HOSPITAL</td>\n",
       "      <td>Medicaid</td>\n",
       "      <td></td>\n",
       "      <td>UNOBTAINABLE</td>\n",
       "      <td></td>\n",
       "      <td>UNKNOWN/NOT SPECIFIED</td>\n",
       "      <td>NaT</td>\n",
       "      <td>NaT</td>\n",
       "      <td>NEWBORN</td>\n",
       "      <td>0</td>\n",
       "      <td>1</td>\n",
       "      <td>1</td>\n",
       "    </tr>\n",
       "    <tr>\n",
       "      <th>3</th>\n",
       "      <td>93</td>\n",
       "      <td>91</td>\n",
       "      <td>121205</td>\n",
       "      <td>2177-04-23 00:08:00</td>\n",
       "      <td>2177-05-10 15:16:00</td>\n",
       "      <td>2177-05-10 15:16:00</td>\n",
       "      <td>EMERGENCY</td>\n",
       "      <td>EMERGENCY ROOM ADMIT</td>\n",
       "      <td>DEAD/EXPIRED</td>\n",
       "      <td>Medicare</td>\n",
       "      <td></td>\n",
       "      <td>JEWISH</td>\n",
       "      <td>MARRIED</td>\n",
       "      <td>WHITE</td>\n",
       "      <td>2177-04-22 21:02:00</td>\n",
       "      <td>2177-04-23 04:03:00</td>\n",
       "      <td>FEVER</td>\n",
       "      <td>1</td>\n",
       "      <td>1</td>\n",
       "      <td>1</td>\n",
       "    </tr>\n",
       "    <tr>\n",
       "      <th>4</th>\n",
       "      <td>94</td>\n",
       "      <td>92</td>\n",
       "      <td>142807</td>\n",
       "      <td>2122-12-13 19:30:00</td>\n",
       "      <td>2123-03-04 13:47:00</td>\n",
       "      <td>None</td>\n",
       "      <td>NEWBORN</td>\n",
       "      <td>PHYS REFERRAL/NORMAL DELI</td>\n",
       "      <td>SHORT TERM HOSPITAL</td>\n",
       "      <td>Medicaid</td>\n",
       "      <td></td>\n",
       "      <td>UNOBTAINABLE</td>\n",
       "      <td></td>\n",
       "      <td>WHITE</td>\n",
       "      <td>NaT</td>\n",
       "      <td>NaT</td>\n",
       "      <td>NEWBORN</td>\n",
       "      <td>0</td>\n",
       "      <td>1</td>\n",
       "      <td>1</td>\n",
       "    </tr>\n",
       "  </tbody>\n",
       "</table>\n",
       "</div>"
      ],
      "text/plain": [
       "   row_id  subject_id  hadm_id           admittime           dischtime  \\\n",
       "0      90          87   190659 2191-02-25 20:30:00 2191-04-25 15:18:00   \n",
       "1      91          88   123010 2111-08-29 03:03:00 2111-09-03 14:24:00   \n",
       "2      92          89   188646 2185-06-17 05:22:00 2185-06-21 11:15:00   \n",
       "3      93          91   121205 2177-04-23 00:08:00 2177-05-10 15:16:00   \n",
       "4      94          92   142807 2122-12-13 19:30:00 2123-03-04 13:47:00   \n",
       "\n",
       "             deathtime admission_type         admission_location  \\\n",
       "0                 None        NEWBORN  PHYS REFERRAL/NORMAL DELI   \n",
       "1                 None      EMERGENCY       EMERGENCY ROOM ADMIT   \n",
       "2                 None        NEWBORN  PHYS REFERRAL/NORMAL DELI   \n",
       "3  2177-05-10 15:16:00      EMERGENCY       EMERGENCY ROOM ADMIT   \n",
       "4                 None        NEWBORN  PHYS REFERRAL/NORMAL DELI   \n",
       "\n",
       "    discharge_location insurance language      religion marital_status  \\\n",
       "0  SHORT TERM HOSPITAL   Private           UNOBTAINABLE                  \n",
       "1                 HOME   Private                                         \n",
       "2  SHORT TERM HOSPITAL  Medicaid           UNOBTAINABLE                  \n",
       "3         DEAD/EXPIRED  Medicare                 JEWISH        MARRIED   \n",
       "4  SHORT TERM HOSPITAL  Medicaid           UNOBTAINABLE                  \n",
       "\n",
       "                ethnicity           edregtime           edouttime  \\\n",
       "0   UNKNOWN/NOT SPECIFIED                 NaT                 NaT   \n",
       "1  BLACK/AFRICAN AMERICAN 2111-08-29 01:44:00 2111-08-29 02:28:00   \n",
       "2   UNKNOWN/NOT SPECIFIED                 NaT                 NaT   \n",
       "3                   WHITE 2177-04-22 21:02:00 2177-04-23 04:03:00   \n",
       "4                   WHITE                 NaT                 NaT   \n",
       "\n",
       "                             diagnosis  hospital_expire_flag  \\\n",
       "0                              NEWBORN                     0   \n",
       "1  S/P MOTOR VEHICLE ACCIDENT-STABBING                     0   \n",
       "2                              NEWBORN                     0   \n",
       "3                                FEVER                     1   \n",
       "4                              NEWBORN                     0   \n",
       "\n",
       "   has_ioevents_data  has_chartevents_data  \n",
       "0                  1                     1  \n",
       "1                  1                     1  \n",
       "2                  1                     1  \n",
       "3                  1                     1  \n",
       "4                  1                     1  "
      ]
     },
     "execution_count": 16,
     "metadata": {},
     "output_type": "execute_result"
    }
   ],
   "source": [
    "cur.execute('SET search_path to ' + schema_name)\n",
    "query = \\\n",
    "\"\"\"\n",
    "SELECT *\n",
    "FROM admissions;\n",
    "\"\"\"\n",
    "data = pd.read_sql_query(query,con)\n",
    "data.head()"
   ]
  },
  {
   "cell_type": "markdown",
   "metadata": {},
   "source": [
    "### Database Metadata for the Patients Table"
   ]
  },
  {
   "cell_type": "code",
   "execution_count": 17,
   "metadata": {
    "collapsed": false
   },
   "outputs": [
    {
     "data": {
      "text/html": [
       "<div>\n",
       "<table border=\"1\" class=\"dataframe\">\n",
       "  <thead>\n",
       "    <tr style=\"text-align: right;\">\n",
       "      <th></th>\n",
       "      <th>row_id</th>\n",
       "      <th>subject_id</th>\n",
       "      <th>gender</th>\n",
       "      <th>dob</th>\n",
       "      <th>dod</th>\n",
       "      <th>dod_hosp</th>\n",
       "      <th>dod_ssn</th>\n",
       "      <th>expire_flag</th>\n",
       "    </tr>\n",
       "  </thead>\n",
       "  <tbody>\n",
       "    <tr>\n",
       "      <th>0</th>\n",
       "      <td>612</td>\n",
       "      <td>646</td>\n",
       "      <td>M</td>\n",
       "      <td>2128-01-05</td>\n",
       "      <td>None</td>\n",
       "      <td>None</td>\n",
       "      <td>None</td>\n",
       "      <td>0</td>\n",
       "    </tr>\n",
       "    <tr>\n",
       "      <th>1</th>\n",
       "      <td>613</td>\n",
       "      <td>647</td>\n",
       "      <td>M</td>\n",
       "      <td>2106-03-24</td>\n",
       "      <td>None</td>\n",
       "      <td>None</td>\n",
       "      <td>None</td>\n",
       "      <td>0</td>\n",
       "    </tr>\n",
       "    <tr>\n",
       "      <th>2</th>\n",
       "      <td>614</td>\n",
       "      <td>648</td>\n",
       "      <td>M</td>\n",
       "      <td>2139-07-13</td>\n",
       "      <td>None</td>\n",
       "      <td>None</td>\n",
       "      <td>None</td>\n",
       "      <td>0</td>\n",
       "    </tr>\n",
       "    <tr>\n",
       "      <th>3</th>\n",
       "      <td>615</td>\n",
       "      <td>649</td>\n",
       "      <td>M</td>\n",
       "      <td>2177-06-23</td>\n",
       "      <td>None</td>\n",
       "      <td>None</td>\n",
       "      <td>None</td>\n",
       "      <td>0</td>\n",
       "    </tr>\n",
       "    <tr>\n",
       "      <th>4</th>\n",
       "      <td>616</td>\n",
       "      <td>650</td>\n",
       "      <td>M</td>\n",
       "      <td>2051-04-15</td>\n",
       "      <td>2111-12-28 00:00:00</td>\n",
       "      <td>None</td>\n",
       "      <td>2111-12-28 00:00:00</td>\n",
       "      <td>1</td>\n",
       "    </tr>\n",
       "  </tbody>\n",
       "</table>\n",
       "</div>"
      ],
      "text/plain": [
       "   row_id  subject_id gender        dob                  dod dod_hosp  \\\n",
       "0     612         646      M 2128-01-05                 None     None   \n",
       "1     613         647      M 2106-03-24                 None     None   \n",
       "2     614         648      M 2139-07-13                 None     None   \n",
       "3     615         649      M 2177-06-23                 None     None   \n",
       "4     616         650      M 2051-04-15  2111-12-28 00:00:00     None   \n",
       "\n",
       "               dod_ssn  expire_flag  \n",
       "0                 None            0  \n",
       "1                 None            0  \n",
       "2                 None            0  \n",
       "3                 None            0  \n",
       "4  2111-12-28 00:00:00            1  "
      ]
     },
     "execution_count": 17,
     "metadata": {},
     "output_type": "execute_result"
    }
   ],
   "source": [
    "cur.execute('SET search_path to ' + schema_name)\n",
    "query = \\\n",
    "\"\"\"\n",
    "SELECT *\n",
    "FROM patients;\n",
    "\"\"\"\n",
    "data = pd.read_sql_query(query,con)\n",
    "data.head()"
   ]
  },
  {
   "cell_type": "markdown",
   "metadata": {},
   "source": [
    "### Database Metadata for the CharteventsTable"
   ]
  },
  {
   "cell_type": "code",
   "execution_count": 18,
   "metadata": {
    "collapsed": true
   },
   "outputs": [],
   "source": [
    "## Too long to execute!!!\n",
    "#cur.execute('SET search_path to ' + schema_name)\n",
    "#query = \\\n",
    "#\"\"\"\n",
    "#SELECT *\n",
    "#FROM chartevents;\n",
    "#\"\"\"\n",
    "#data = pd.read_sql_query(query,con)\n",
    "#data.head()"
   ]
  },
  {
   "cell_type": "markdown",
   "metadata": {},
   "source": [
    " ### The Number of Patients in the Patients Table"
   ]
  },
  {
   "cell_type": "code",
   "execution_count": 19,
   "metadata": {
    "collapsed": false
   },
   "outputs": [
    {
     "data": {
      "text/html": [
       "<div>\n",
       "<table border=\"1\" class=\"dataframe\">\n",
       "  <thead>\n",
       "    <tr style=\"text-align: right;\">\n",
       "      <th></th>\n",
       "      <th>count</th>\n",
       "    </tr>\n",
       "  </thead>\n",
       "  <tbody>\n",
       "    <tr>\n",
       "      <th>0</th>\n",
       "      <td>46520</td>\n",
       "    </tr>\n",
       "  </tbody>\n",
       "</table>\n",
       "</div>"
      ],
      "text/plain": [
       "   count\n",
       "0  46520"
      ]
     },
     "execution_count": 19,
     "metadata": {},
     "output_type": "execute_result"
    }
   ],
   "source": [
    "cur.execute('SET search_path to ' + schema_name)\n",
    "query = \\\n",
    "\"\"\"\n",
    "SELECT COUNT(*)\n",
    "FROM patients;\n",
    "\"\"\"\n",
    "data = pd.read_sql_query(query,con)\n",
    "data"
   ]
  },
  {
   "cell_type": "markdown",
   "metadata": {},
   "source": [
    "### The Distinct Values of Gender"
   ]
  },
  {
   "cell_type": "code",
   "execution_count": 20,
   "metadata": {
    "collapsed": false
   },
   "outputs": [
    {
     "data": {
      "text/html": [
       "<div>\n",
       "<table border=\"1\" class=\"dataframe\">\n",
       "  <thead>\n",
       "    <tr style=\"text-align: right;\">\n",
       "      <th></th>\n",
       "      <th>gender</th>\n",
       "    </tr>\n",
       "  </thead>\n",
       "  <tbody>\n",
       "    <tr>\n",
       "      <th>0</th>\n",
       "      <td>M</td>\n",
       "    </tr>\n",
       "    <tr>\n",
       "      <th>1</th>\n",
       "      <td>F</td>\n",
       "    </tr>\n",
       "  </tbody>\n",
       "</table>\n",
       "</div>"
      ],
      "text/plain": [
       "  gender\n",
       "0      M\n",
       "1      F"
      ]
     },
     "execution_count": 20,
     "metadata": {},
     "output_type": "execute_result"
    }
   ],
   "source": [
    "cur.execute('SET search_path to ' + schema_name)\n",
    "query = \\\n",
    "\"\"\"\n",
    "SELECT DISTINCT(gender)\n",
    "FROM patients;\n",
    "\"\"\"\n",
    "data = pd.read_sql_query(query,con)\n",
    "data"
   ]
  },
  {
   "cell_type": "markdown",
   "metadata": {},
   "source": [
    "### The Number of Female Patients"
   ]
  },
  {
   "cell_type": "code",
   "execution_count": 21,
   "metadata": {
    "collapsed": false
   },
   "outputs": [
    {
     "data": {
      "text/html": [
       "<div>\n",
       "<table border=\"1\" class=\"dataframe\">\n",
       "  <thead>\n",
       "    <tr style=\"text-align: right;\">\n",
       "      <th></th>\n",
       "      <th>count</th>\n",
       "    </tr>\n",
       "  </thead>\n",
       "  <tbody>\n",
       "    <tr>\n",
       "      <th>0</th>\n",
       "      <td>20399</td>\n",
       "    </tr>\n",
       "  </tbody>\n",
       "</table>\n",
       "</div>"
      ],
      "text/plain": [
       "   count\n",
       "0  20399"
      ]
     },
     "execution_count": 21,
     "metadata": {},
     "output_type": "execute_result"
    }
   ],
   "source": [
    "cur.execute('SET search_path to ' + schema_name)\n",
    "query = \\\n",
    "\"\"\"\n",
    "SELECT COUNT(*)\n",
    "FROM patients\n",
    "WHERE gender = 'F';\n",
    "\"\"\"\n",
    "data = pd.read_sql_query(query,con)\n",
    "data"
   ]
  },
  {
   "cell_type": "markdown",
   "metadata": {},
   "source": [
    "### The Numbers of Male and Female Patients"
   ]
  },
  {
   "cell_type": "code",
   "execution_count": 22,
   "metadata": {
    "collapsed": false
   },
   "outputs": [
    {
     "data": {
      "text/html": [
       "<div>\n",
       "<table border=\"1\" class=\"dataframe\">\n",
       "  <thead>\n",
       "    <tr style=\"text-align: right;\">\n",
       "      <th></th>\n",
       "      <th>gender</th>\n",
       "      <th>count</th>\n",
       "    </tr>\n",
       "  </thead>\n",
       "  <tbody>\n",
       "    <tr>\n",
       "      <th>0</th>\n",
       "      <td>M</td>\n",
       "      <td>26121</td>\n",
       "    </tr>\n",
       "    <tr>\n",
       "      <th>1</th>\n",
       "      <td>F</td>\n",
       "      <td>20399</td>\n",
       "    </tr>\n",
       "  </tbody>\n",
       "</table>\n",
       "</div>"
      ],
      "text/plain": [
       "  gender  count\n",
       "0      M  26121\n",
       "1      F  20399"
      ]
     },
     "execution_count": 22,
     "metadata": {},
     "output_type": "execute_result"
    }
   ],
   "source": [
    "cur.execute('SET search_path to ' + schema_name)\n",
    "query = \\\n",
    "\"\"\"\n",
    "SELECT gender, COUNT(*)\n",
    "FROM patients\n",
    "GROUP BY gender;\n",
    "\"\"\"\n",
    "data = pd.read_sql_query(query,con)\n",
    "data"
   ]
  },
  {
   "cell_type": "markdown",
   "metadata": {},
   "source": [
    "### Count the Number of Patients Who Died in the Hospital"
   ]
  },
  {
   "cell_type": "code",
   "execution_count": 23,
   "metadata": {
    "collapsed": false
   },
   "outputs": [
    {
     "data": {
      "text/html": [
       "<div>\n",
       "<table border=\"1\" class=\"dataframe\">\n",
       "  <thead>\n",
       "    <tr style=\"text-align: right;\">\n",
       "      <th></th>\n",
       "      <th>expire_flag</th>\n",
       "      <th>count</th>\n",
       "    </tr>\n",
       "  </thead>\n",
       "  <tbody>\n",
       "    <tr>\n",
       "      <th>0</th>\n",
       "      <td>0</td>\n",
       "      <td>30761</td>\n",
       "    </tr>\n",
       "    <tr>\n",
       "      <th>1</th>\n",
       "      <td>1</td>\n",
       "      <td>15759</td>\n",
       "    </tr>\n",
       "  </tbody>\n",
       "</table>\n",
       "</div>"
      ],
      "text/plain": [
       "   expire_flag  count\n",
       "0            0  30761\n",
       "1            1  15759"
      ]
     },
     "execution_count": 23,
     "metadata": {},
     "output_type": "execute_result"
    }
   ],
   "source": [
    "cur.execute('SET search_path to ' + schema_name)\n",
    "query = \\\n",
    "\"\"\"\n",
    "SELECT expire_flag, COUNT(*)\n",
    "FROM patients\n",
    "GROUP BY expire_flag;\n",
    "\"\"\"\n",
    "data = pd.read_sql_query(query,con)\n",
    "data"
   ]
  },
  {
   "cell_type": "code",
   "execution_count": null,
   "metadata": {
    "collapsed": true
   },
   "outputs": [],
   "source": []
  }
 ],
 "metadata": {
  "anaconda-cloud": {},
  "kernelspec": {
   "display_name": "Python [Root]",
   "language": "python",
   "name": "Python [Root]"
  },
  "language_info": {
   "codemirror_mode": {
    "name": "ipython",
    "version": 2
   },
   "file_extension": ".py",
   "mimetype": "text/x-python",
   "name": "python",
   "nbconvert_exporter": "python",
   "pygments_lexer": "ipython2",
   "version": "2.7.12"
  }
 },
 "nbformat": 4,
 "nbformat_minor": 0
}
